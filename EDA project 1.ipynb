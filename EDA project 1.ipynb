{
 "cells": [
  {
   "cell_type": "markdown",
   "id": "271c8df8",
   "metadata": {},
   "source": [
    "##   EDA OF A SUPERMARKET DATASET"
   ]
  },
  {
   "cell_type": "markdown",
   "id": "cff3da6b",
   "metadata": {},
   "source": [
    "<!--  Numerical features may be there (histogram or pdf)\n",
    " categorical features\n",
    " missing values (visulize the graph)\n",
    " outliers (box plots)\n",
    " cleaning of raw data\n",
    "CONVERTING RAW DATA INTO USEFUL DATA -->\n"
   ]
  },
  {
   "cell_type": "code",
   "execution_count": 227,
   "id": "c76423a5",
   "metadata": {},
   "outputs": [],
   "source": [
    "import pandas as pd\n",
    "import pandas_profiling\n",
    "\n",
    "import numpy as np\n",
    "import matplotlib.pyplot as plt\n",
    "import seaborn as sns\n",
    "\n",
    "import statistics as st\n",
    "import scipy\n",
    "\n",
    "from scipy.stats import pearsonr\n",
    "from sklearn import preprocessing"
   ]
  },
  {
   "cell_type": "code",
   "execution_count": 7,
   "id": "f843771b",
   "metadata": {},
   "outputs": [],
   "source": [
    "df=pd.read_csv('supermarket_sales - Sheet1.csv')"
   ]
  },
  {
   "cell_type": "code",
   "execution_count": 8,
   "id": "871ff307",
   "metadata": {
    "scrolled": true
   },
   "outputs": [
    {
     "data": {
      "text/html": [
       "<div>\n",
       "<style scoped>\n",
       "    .dataframe tbody tr th:only-of-type {\n",
       "        vertical-align: middle;\n",
       "    }\n",
       "\n",
       "    .dataframe tbody tr th {\n",
       "        vertical-align: top;\n",
       "    }\n",
       "\n",
       "    .dataframe thead th {\n",
       "        text-align: right;\n",
       "    }\n",
       "</style>\n",
       "<table border=\"1\" class=\"dataframe\">\n",
       "  <thead>\n",
       "    <tr style=\"text-align: right;\">\n",
       "      <th></th>\n",
       "      <th>Invoice ID</th>\n",
       "      <th>Branch</th>\n",
       "      <th>City</th>\n",
       "      <th>Customer type</th>\n",
       "      <th>Gender</th>\n",
       "      <th>Product line</th>\n",
       "      <th>Unit price</th>\n",
       "      <th>Quantity</th>\n",
       "      <th>Tax 5%</th>\n",
       "      <th>Total</th>\n",
       "      <th>Date</th>\n",
       "      <th>Time</th>\n",
       "      <th>Payment</th>\n",
       "      <th>cogs</th>\n",
       "      <th>gross margin percentage</th>\n",
       "      <th>gross income</th>\n",
       "      <th>Rating</th>\n",
       "    </tr>\n",
       "  </thead>\n",
       "  <tbody>\n",
       "    <tr>\n",
       "      <th>0</th>\n",
       "      <td>750-67-8428</td>\n",
       "      <td>A</td>\n",
       "      <td>Yangon</td>\n",
       "      <td>Member</td>\n",
       "      <td>Female</td>\n",
       "      <td>Health and beauty</td>\n",
       "      <td>74.69</td>\n",
       "      <td>7</td>\n",
       "      <td>26.1415</td>\n",
       "      <td>548.9715</td>\n",
       "      <td>1/5/2019</td>\n",
       "      <td>13:08</td>\n",
       "      <td>Ewallet</td>\n",
       "      <td>522.83</td>\n",
       "      <td>4.761905</td>\n",
       "      <td>26.1415</td>\n",
       "      <td>9.1</td>\n",
       "    </tr>\n",
       "    <tr>\n",
       "      <th>1</th>\n",
       "      <td>226-31-3081</td>\n",
       "      <td>C</td>\n",
       "      <td>Naypyitaw</td>\n",
       "      <td>Normal</td>\n",
       "      <td>Female</td>\n",
       "      <td>Electronic accessories</td>\n",
       "      <td>15.28</td>\n",
       "      <td>5</td>\n",
       "      <td>3.8200</td>\n",
       "      <td>80.2200</td>\n",
       "      <td>3/8/2019</td>\n",
       "      <td>10:29</td>\n",
       "      <td>Cash</td>\n",
       "      <td>76.40</td>\n",
       "      <td>4.761905</td>\n",
       "      <td>3.8200</td>\n",
       "      <td>9.6</td>\n",
       "    </tr>\n",
       "    <tr>\n",
       "      <th>2</th>\n",
       "      <td>631-41-3108</td>\n",
       "      <td>A</td>\n",
       "      <td>Yangon</td>\n",
       "      <td>Normal</td>\n",
       "      <td>Male</td>\n",
       "      <td>Home and lifestyle</td>\n",
       "      <td>46.33</td>\n",
       "      <td>7</td>\n",
       "      <td>16.2155</td>\n",
       "      <td>340.5255</td>\n",
       "      <td>3/3/2019</td>\n",
       "      <td>13:23</td>\n",
       "      <td>Credit card</td>\n",
       "      <td>324.31</td>\n",
       "      <td>4.761905</td>\n",
       "      <td>16.2155</td>\n",
       "      <td>7.4</td>\n",
       "    </tr>\n",
       "    <tr>\n",
       "      <th>3</th>\n",
       "      <td>123-19-1176</td>\n",
       "      <td>A</td>\n",
       "      <td>Yangon</td>\n",
       "      <td>Member</td>\n",
       "      <td>Male</td>\n",
       "      <td>Health and beauty</td>\n",
       "      <td>58.22</td>\n",
       "      <td>8</td>\n",
       "      <td>23.2880</td>\n",
       "      <td>489.0480</td>\n",
       "      <td>1/27/2019</td>\n",
       "      <td>20:33</td>\n",
       "      <td>Ewallet</td>\n",
       "      <td>465.76</td>\n",
       "      <td>4.761905</td>\n",
       "      <td>23.2880</td>\n",
       "      <td>8.4</td>\n",
       "    </tr>\n",
       "    <tr>\n",
       "      <th>4</th>\n",
       "      <td>373-73-7910</td>\n",
       "      <td>A</td>\n",
       "      <td>Yangon</td>\n",
       "      <td>Normal</td>\n",
       "      <td>Male</td>\n",
       "      <td>Sports and travel</td>\n",
       "      <td>86.31</td>\n",
       "      <td>7</td>\n",
       "      <td>30.2085</td>\n",
       "      <td>634.3785</td>\n",
       "      <td>2/8/2019</td>\n",
       "      <td>10:37</td>\n",
       "      <td>Ewallet</td>\n",
       "      <td>604.17</td>\n",
       "      <td>4.761905</td>\n",
       "      <td>30.2085</td>\n",
       "      <td>5.3</td>\n",
       "    </tr>\n",
       "  </tbody>\n",
       "</table>\n",
       "</div>"
      ],
      "text/plain": [
       "    Invoice ID Branch       City Customer type  Gender  \\\n",
       "0  750-67-8428      A     Yangon        Member  Female   \n",
       "1  226-31-3081      C  Naypyitaw        Normal  Female   \n",
       "2  631-41-3108      A     Yangon        Normal    Male   \n",
       "3  123-19-1176      A     Yangon        Member    Male   \n",
       "4  373-73-7910      A     Yangon        Normal    Male   \n",
       "\n",
       "             Product line  Unit price  Quantity   Tax 5%     Total       Date  \\\n",
       "0       Health and beauty       74.69         7  26.1415  548.9715   1/5/2019   \n",
       "1  Electronic accessories       15.28         5   3.8200   80.2200   3/8/2019   \n",
       "2      Home and lifestyle       46.33         7  16.2155  340.5255   3/3/2019   \n",
       "3       Health and beauty       58.22         8  23.2880  489.0480  1/27/2019   \n",
       "4       Sports and travel       86.31         7  30.2085  634.3785   2/8/2019   \n",
       "\n",
       "    Time      Payment    cogs  gross margin percentage  gross income  Rating  \n",
       "0  13:08      Ewallet  522.83                 4.761905       26.1415     9.1  \n",
       "1  10:29         Cash   76.40                 4.761905        3.8200     9.6  \n",
       "2  13:23  Credit card  324.31                 4.761905       16.2155     7.4  \n",
       "3  20:33      Ewallet  465.76                 4.761905       23.2880     8.4  \n",
       "4  10:37      Ewallet  604.17                 4.761905       30.2085     5.3  "
      ]
     },
     "execution_count": 8,
     "metadata": {},
     "output_type": "execute_result"
    }
   ],
   "source": [
    "df.head()"
   ]
  },
  {
   "cell_type": "code",
   "execution_count": 9,
   "id": "569dcef5",
   "metadata": {},
   "outputs": [
    {
     "data": {
      "text/plain": [
       "(1000, 17)"
      ]
     },
     "execution_count": 9,
     "metadata": {},
     "output_type": "execute_result"
    }
   ],
   "source": [
    "df.shape"
   ]
  },
  {
   "cell_type": "code",
   "execution_count": 12,
   "id": "5543cc36",
   "metadata": {},
   "outputs": [],
   "source": [
    "df.drop('Tax 5%',axis=1,inplace=True)"
   ]
  },
  {
   "cell_type": "code",
   "execution_count": 13,
   "id": "f61502fe",
   "metadata": {},
   "outputs": [],
   "source": [
    "df.drop(['Invoice ID','Time','gross margin percentage'],axis=1,inplace=True)"
   ]
  },
  {
   "cell_type": "code",
   "execution_count": 15,
   "id": "63f0ade4",
   "metadata": {},
   "outputs": [
    {
     "data": {
      "text/plain": [
       "['Branch', 'City', 'Customer type', 'Gender', 'Product line', 'Payment']"
      ]
     },
     "execution_count": 15,
     "metadata": {},
     "output_type": "execute_result"
    }
   ],
   "source": [
    "df2=(df.drop([    \n",
    "                  'Rating',\n",
    "                  'gross income',\n",
    "                  'cogs',\n",
    "                  'Unit price',\n",
    "                 'Quantity',\n",
    "                  'Total',\n",
    "                'Date'],axis=1))\n",
    "var=list(df2.columns)\n",
    "var"
   ]
  },
  {
   "cell_type": "code",
   "execution_count": 17,
   "id": "51b161b9",
   "metadata": {},
   "outputs": [
    {
     "data": {
      "image/png": "[encoded data removed]",
      "text/plain": [
       "<Figure size 432x288 with 1 Axes>"
      ]
     },
     "metadata": {},
     "output_type": "display_data"
    },
    {
     "data": {
      "image/png": "[encoded data removed]",
      "text/plain": [
       "<Figure size 432x288 with 1 Axes>"
      ]
     },
     "metadata": {},
     "output_type": "display_data"
    },
    {
     "data": {
      "image/png": "[encoded data removed]",
      "text/plain": [
       "<Figure size 432x288 with 1 Axes>"
      ]
     },
     "metadata": {},
     "output_type": "display_data"
    },
    {
     "data": {
      "image/png": "[encoded data removed]",
      "text/plain": [
       "<Figure size 432x288 with 1 Axes>"
      ]
     },
     "metadata": {},
     "output_type": "display_data"
    },
    {
     "data": {
      "image/png": "[encoded data removed]",
      "text/plain": [
       "<Figure size 432x288 with 1 Axes>"
      ]
     },
     "metadata": {},
     "output_type": "display_data"
    },
    {
     "data": {
      "image/png": "[encoded data removed]",
      "text/plain": [
       "<Figure size 432x288 with 1 Axes>"
      ]
     },
     "metadata": {},
     "output_type": "display_data"
    }
   ],
   "source": [
    "%matplotlib inline\n",
    "for i in var:\n",
    "    plt.pie(df[i].value_counts(normalize=True),labels=df2[i].unique())\n",
    "    plt.show()"
   ]
  },
  {
   "cell_type": "markdown",
   "id": "7a766bb0",
   "metadata": {},
   "source": [
    "## From the above pie charts we realize that the all the categorical variables of this dataset are balanced"
   ]
  },
  {
   "cell_type": "markdown",
   "id": "339c5957",
   "metadata": {},
   "source": [
    "## Univariate analysis for non categorical variables"
   ]
  },
  {
   "cell_type": "markdown",
   "id": "5d7f8bd3",
   "metadata": {},
   "source": [
    "### 5 number summary"
   ]
  },
  {
   "cell_type": "code",
   "execution_count": 18,
   "id": "5139fbaa",
   "metadata": {},
   "outputs": [
    {
     "data": {
      "text/plain": [
       "245.76236168237725"
      ]
     },
     "execution_count": 18,
     "metadata": {},
     "output_type": "execute_result"
    }
   ],
   "source": [
    "np.std(df['Total'])"
   ]
  },
  {
   "cell_type": "code",
   "execution_count": 19,
   "id": "931a8d59",
   "metadata": {},
   "outputs": [
    {
     "name": "stdout",
     "output_type": "stream",
     "text": [
      "245.76236168237725\n",
      "1042.65\n",
      "10.6785\n",
      "124.422375\n",
      "253.848\n",
      "471.35024999999996\n"
     ]
    }
   ],
   "source": [
    "print(np.std(df['Total']))\n",
    "print(df['Total'].max())\n",
    "print(df['Total'].min())\n",
    "print(np.quantile(df['Total'],0.25))\n",
    "print(np.quantile(df['Total'],0.50))\n",
    "print(np.quantile(df['Total'],0.75))"
   ]
  },
  {
   "cell_type": "code",
   "execution_count": 20,
   "id": "d18eaa87",
   "metadata": {},
   "outputs": [
    {
     "name": "stdout",
     "output_type": "stream",
     "text": [
      "991.7420625\n",
      "-395.9694375\n"
     ]
    }
   ],
   "source": [
    "iqr=np.quantile(df['Total'],0.75)-np.quantile(df['Total'],0.25)\n",
    "lower_outlier=np.quantile(df['Total'],0.25)-1.5*iqr\n",
    "\n",
    "upper_outlier=np.quantile(df['Total'],0.75)+1.5*iqr\n",
    "print(upper_outlier)\n",
    "print(lower_outlier)"
   ]
  },
  {
   "cell_type": "code",
   "execution_count": 21,
   "id": "99c1406d",
   "metadata": {},
   "outputs": [
    {
     "data": {
      "text/plain": [
       "9"
      ]
     },
     "execution_count": 21,
     "metadata": {},
     "output_type": "execute_result"
    }
   ],
   "source": [
    "len(df[df['Total']>991])"
   ]
  },
  {
   "cell_type": "code",
   "execution_count": 22,
   "id": "2a27b5f7",
   "metadata": {},
   "outputs": [
    {
     "data": {
      "text/plain": [
       "<AxesSubplot:>"
      ]
     },
     "execution_count": 22,
     "metadata": {},
     "output_type": "execute_result"
    },
    {
     "data": {
      "image/png": "[encoded data removed]",
      "text/plain": [
       "<Figure size 720x720 with 1 Axes>"
      ]
     },
     "metadata": {
      "needs_background": "light"
     },
     "output_type": "display_data"
    }
   ],
   "source": [
    "df.boxplot(column=['Total'],figsize=(10,10))"
   ]
  },
  {
   "cell_type": "code",
   "execution_count": 23,
   "id": "24bd1138",
   "metadata": {},
   "outputs": [
    {
     "data": {
      "text/plain": [
       "0.8912303920037631"
      ]
     },
     "execution_count": 23,
     "metadata": {},
     "output_type": "execute_result"
    }
   ],
   "source": [
    "s=scipy.stats.skew(df['Total'])\n",
    "s"
   ]
  },
  {
   "cell_type": "markdown",
   "id": "82b14413",
   "metadata": {},
   "source": [
    "# From the above boxplot we can say that most of the customers have purchased in the lower total cost range. Customers who have purchased abovcve 991.742 are considered to be outliers and there are 9 of them in this dataset which is why it has a skewness of 0.89"
   ]
  },
  {
   "cell_type": "markdown",
   "id": "bd383b78",
   "metadata": {},
   "source": [
    "### Bivariate analysis"
   ]
  },
  {
   "cell_type": "code",
   "execution_count": 24,
   "id": "c4efabf0",
   "metadata": {},
   "outputs": [
    {
     "data": {
      "text/plain": [
       "10    119\n",
       "1     112\n",
       "4     109\n",
       "5     102\n",
       "7     102\n",
       "6      98\n",
       "9      92\n",
       "2      91\n",
       "3      90\n",
       "8      85\n",
       "Name: Quantity, dtype: int64"
      ]
     },
     "execution_count": 24,
     "metadata": {},
     "output_type": "execute_result"
    }
   ],
   "source": [
    "df['Quantity'].value_counts()"
   ]
  },
  {
   "cell_type": "code",
   "execution_count": 47,
   "id": "8a67484e",
   "metadata": {},
   "outputs": [
    {
     "data": {
      "image/png": "[encoded data removed]",
      "text/plain": [
       "<Figure size 432x288 with 2 Axes>"
      ]
     },
     "metadata": {
      "needs_background": "light"
     },
     "output_type": "display_data"
    }
   ],
   "source": [
    "corrmat = df.corr()\n",
    "hm = sns.heatmap(corrmat)"
   ]
  },
  {
   "cell_type": "code",
   "execution_count": 26,
   "id": "204ec922",
   "metadata": {},
   "outputs": [
    {
     "data": {
      "text/plain": [
       "array(['Ewallet', 'Cash', 'Credit card'], dtype=object)"
      ]
     },
     "execution_count": 26,
     "metadata": {},
     "output_type": "execute_result"
    }
   ],
   "source": [
    "df['Payment'].unique()"
   ]
  },
  {
   "cell_type": "markdown",
   "id": "5fccf094",
   "metadata": {},
   "source": [
    "## applying label encoding to payment variable"
   ]
  },
  {
   "cell_type": "code",
   "execution_count": 41,
   "id": "eb0ba3e7",
   "metadata": {},
   "outputs": [],
   "source": [
    "df1=pd.get_dummies(df['Payment'],drop_first=True)"
   ]
  },
  {
   "cell_type": "code",
   "execution_count": 42,
   "id": "14bd49e2",
   "metadata": {},
   "outputs": [],
   "source": [
    "df=pd.concat([df1,df],axis=1)"
   ]
  },
  {
   "cell_type": "code",
   "execution_count": 43,
   "id": "17ac08c5",
   "metadata": {},
   "outputs": [
    {
     "data": {
      "text/html": [
       "<div>\n",
       "<style scoped>\n",
       "    .dataframe tbody tr th:only-of-type {\n",
       "        vertical-align: middle;\n",
       "    }\n",
       "\n",
       "    .dataframe tbody tr th {\n",
       "        vertical-align: top;\n",
       "    }\n",
       "\n",
       "    .dataframe thead th {\n",
       "        text-align: right;\n",
       "    }\n",
       "</style>\n",
       "<table border=\"1\" class=\"dataframe\">\n",
       "  <thead>\n",
       "    <tr style=\"text-align: right;\">\n",
       "      <th></th>\n",
       "      <th>Credit card</th>\n",
       "      <th>Ewallet</th>\n",
       "      <th>Branch</th>\n",
       "      <th>City</th>\n",
       "      <th>Customer type</th>\n",
       "      <th>Gender</th>\n",
       "      <th>Product line</th>\n",
       "      <th>Unit price</th>\n",
       "      <th>Quantity</th>\n",
       "      <th>Total</th>\n",
       "      <th>Date</th>\n",
       "      <th>Payment</th>\n",
       "      <th>cogs</th>\n",
       "      <th>gross income</th>\n",
       "      <th>Rating</th>\n",
       "    </tr>\n",
       "  </thead>\n",
       "  <tbody>\n",
       "    <tr>\n",
       "      <th>0</th>\n",
       "      <td>0</td>\n",
       "      <td>1</td>\n",
       "      <td>A</td>\n",
       "      <td>Yangon</td>\n",
       "      <td>Member</td>\n",
       "      <td>Female</td>\n",
       "      <td>Health and beauty</td>\n",
       "      <td>74.69</td>\n",
       "      <td>7</td>\n",
       "      <td>548.9715</td>\n",
       "      <td>1/5/2019</td>\n",
       "      <td>Ewallet</td>\n",
       "      <td>522.83</td>\n",
       "      <td>26.1415</td>\n",
       "      <td>9.1</td>\n",
       "    </tr>\n",
       "    <tr>\n",
       "      <th>1</th>\n",
       "      <td>0</td>\n",
       "      <td>0</td>\n",
       "      <td>C</td>\n",
       "      <td>Naypyitaw</td>\n",
       "      <td>Normal</td>\n",
       "      <td>Female</td>\n",
       "      <td>Electronic accessories</td>\n",
       "      <td>15.28</td>\n",
       "      <td>5</td>\n",
       "      <td>80.2200</td>\n",
       "      <td>3/8/2019</td>\n",
       "      <td>Cash</td>\n",
       "      <td>76.40</td>\n",
       "      <td>3.8200</td>\n",
       "      <td>9.6</td>\n",
       "    </tr>\n",
       "    <tr>\n",
       "      <th>2</th>\n",
       "      <td>1</td>\n",
       "      <td>0</td>\n",
       "      <td>A</td>\n",
       "      <td>Yangon</td>\n",
       "      <td>Normal</td>\n",
       "      <td>Male</td>\n",
       "      <td>Home and lifestyle</td>\n",
       "      <td>46.33</td>\n",
       "      <td>7</td>\n",
       "      <td>340.5255</td>\n",
       "      <td>3/3/2019</td>\n",
       "      <td>Credit card</td>\n",
       "      <td>324.31</td>\n",
       "      <td>16.2155</td>\n",
       "      <td>7.4</td>\n",
       "    </tr>\n",
       "    <tr>\n",
       "      <th>3</th>\n",
       "      <td>0</td>\n",
       "      <td>1</td>\n",
       "      <td>A</td>\n",
       "      <td>Yangon</td>\n",
       "      <td>Member</td>\n",
       "      <td>Male</td>\n",
       "      <td>Health and beauty</td>\n",
       "      <td>58.22</td>\n",
       "      <td>8</td>\n",
       "      <td>489.0480</td>\n",
       "      <td>1/27/2019</td>\n",
       "      <td>Ewallet</td>\n",
       "      <td>465.76</td>\n",
       "      <td>23.2880</td>\n",
       "      <td>8.4</td>\n",
       "    </tr>\n",
       "    <tr>\n",
       "      <th>4</th>\n",
       "      <td>0</td>\n",
       "      <td>1</td>\n",
       "      <td>A</td>\n",
       "      <td>Yangon</td>\n",
       "      <td>Normal</td>\n",
       "      <td>Male</td>\n",
       "      <td>Sports and travel</td>\n",
       "      <td>86.31</td>\n",
       "      <td>7</td>\n",
       "      <td>634.3785</td>\n",
       "      <td>2/8/2019</td>\n",
       "      <td>Ewallet</td>\n",
       "      <td>604.17</td>\n",
       "      <td>30.2085</td>\n",
       "      <td>5.3</td>\n",
       "    </tr>\n",
       "  </tbody>\n",
       "</table>\n",
       "</div>"
      ],
      "text/plain": [
       "   Credit card  Ewallet Branch       City Customer type  Gender  \\\n",
       "0            0        1      A     Yangon        Member  Female   \n",
       "1            0        0      C  Naypyitaw        Normal  Female   \n",
       "2            1        0      A     Yangon        Normal    Male   \n",
       "3            0        1      A     Yangon        Member    Male   \n",
       "4            0        1      A     Yangon        Normal    Male   \n",
       "\n",
       "             Product line  Unit price  Quantity     Total       Date  \\\n",
       "0       Health and beauty       74.69         7  548.9715   1/5/2019   \n",
       "1  Electronic accessories       15.28         5   80.2200   3/8/2019   \n",
       "2      Home and lifestyle       46.33         7  340.5255   3/3/2019   \n",
       "3       Health and beauty       58.22         8  489.0480  1/27/2019   \n",
       "4       Sports and travel       86.31         7  634.3785   2/8/2019   \n",
       "\n",
       "       Payment    cogs  gross income  Rating  \n",
       "0      Ewallet  522.83       26.1415     9.1  \n",
       "1         Cash   76.40        3.8200     9.6  \n",
       "2  Credit card  324.31       16.2155     7.4  \n",
       "3      Ewallet  465.76       23.2880     8.4  \n",
       "4      Ewallet  604.17       30.2085     5.3  "
      ]
     },
     "execution_count": 43,
     "metadata": {},
     "output_type": "execute_result"
    }
   ],
   "source": [
    "df.head()"
   ]
  },
  {
   "cell_type": "code",
   "execution_count": 44,
   "id": "437a56d1",
   "metadata": {},
   "outputs": [],
   "source": [
    "df.drop('Payment',axis=1,inplace=True)"
   ]
  },
  {
   "cell_type": "code",
   "execution_count": 46,
   "id": "d53bce24",
   "metadata": {},
   "outputs": [
    {
     "data": {
      "text/html": [
       "<div>\n",
       "<style scoped>\n",
       "    .dataframe tbody tr th:only-of-type {\n",
       "        vertical-align: middle;\n",
       "    }\n",
       "\n",
       "    .dataframe tbody tr th {\n",
       "        vertical-align: top;\n",
       "    }\n",
       "\n",
       "    .dataframe thead th {\n",
       "        text-align: right;\n",
       "    }\n",
       "</style>\n",
       "<table border=\"1\" class=\"dataframe\">\n",
       "  <thead>\n",
       "    <tr style=\"text-align: right;\">\n",
       "      <th></th>\n",
       "      <th>Credit card</th>\n",
       "      <th>Ewallet</th>\n",
       "      <th>Branch</th>\n",
       "      <th>City</th>\n",
       "      <th>Customer type</th>\n",
       "      <th>Gender</th>\n",
       "      <th>Product line</th>\n",
       "      <th>Unit price</th>\n",
       "      <th>Quantity</th>\n",
       "      <th>Total</th>\n",
       "      <th>Date</th>\n",
       "      <th>cogs</th>\n",
       "      <th>gross income</th>\n",
       "      <th>Rating</th>\n",
       "    </tr>\n",
       "  </thead>\n",
       "  <tbody>\n",
       "    <tr>\n",
       "      <th>0</th>\n",
       "      <td>0</td>\n",
       "      <td>1</td>\n",
       "      <td>A</td>\n",
       "      <td>Yangon</td>\n",
       "      <td>Member</td>\n",
       "      <td>Female</td>\n",
       "      <td>Health and beauty</td>\n",
       "      <td>74.69</td>\n",
       "      <td>7</td>\n",
       "      <td>548.9715</td>\n",
       "      <td>1/5/2019</td>\n",
       "      <td>522.83</td>\n",
       "      <td>26.1415</td>\n",
       "      <td>9.1</td>\n",
       "    </tr>\n",
       "    <tr>\n",
       "      <th>1</th>\n",
       "      <td>0</td>\n",
       "      <td>0</td>\n",
       "      <td>C</td>\n",
       "      <td>Naypyitaw</td>\n",
       "      <td>Normal</td>\n",
       "      <td>Female</td>\n",
       "      <td>Electronic accessories</td>\n",
       "      <td>15.28</td>\n",
       "      <td>5</td>\n",
       "      <td>80.2200</td>\n",
       "      <td>3/8/2019</td>\n",
       "      <td>76.40</td>\n",
       "      <td>3.8200</td>\n",
       "      <td>9.6</td>\n",
       "    </tr>\n",
       "    <tr>\n",
       "      <th>2</th>\n",
       "      <td>1</td>\n",
       "      <td>0</td>\n",
       "      <td>A</td>\n",
       "      <td>Yangon</td>\n",
       "      <td>Normal</td>\n",
       "      <td>Male</td>\n",
       "      <td>Home and lifestyle</td>\n",
       "      <td>46.33</td>\n",
       "      <td>7</td>\n",
       "      <td>340.5255</td>\n",
       "      <td>3/3/2019</td>\n",
       "      <td>324.31</td>\n",
       "      <td>16.2155</td>\n",
       "      <td>7.4</td>\n",
       "    </tr>\n",
       "    <tr>\n",
       "      <th>3</th>\n",
       "      <td>0</td>\n",
       "      <td>1</td>\n",
       "      <td>A</td>\n",
       "      <td>Yangon</td>\n",
       "      <td>Member</td>\n",
       "      <td>Male</td>\n",
       "      <td>Health and beauty</td>\n",
       "      <td>58.22</td>\n",
       "      <td>8</td>\n",
       "      <td>489.0480</td>\n",
       "      <td>1/27/2019</td>\n",
       "      <td>465.76</td>\n",
       "      <td>23.2880</td>\n",
       "      <td>8.4</td>\n",
       "    </tr>\n",
       "    <tr>\n",
       "      <th>4</th>\n",
       "      <td>0</td>\n",
       "      <td>1</td>\n",
       "      <td>A</td>\n",
       "      <td>Yangon</td>\n",
       "      <td>Normal</td>\n",
       "      <td>Male</td>\n",
       "      <td>Sports and travel</td>\n",
       "      <td>86.31</td>\n",
       "      <td>7</td>\n",
       "      <td>634.3785</td>\n",
       "      <td>2/8/2019</td>\n",
       "      <td>604.17</td>\n",
       "      <td>30.2085</td>\n",
       "      <td>5.3</td>\n",
       "    </tr>\n",
       "  </tbody>\n",
       "</table>\n",
       "</div>"
      ],
      "text/plain": [
       "   Credit card  Ewallet Branch       City Customer type  Gender  \\\n",
       "0            0        1      A     Yangon        Member  Female   \n",
       "1            0        0      C  Naypyitaw        Normal  Female   \n",
       "2            1        0      A     Yangon        Normal    Male   \n",
       "3            0        1      A     Yangon        Member    Male   \n",
       "4            0        1      A     Yangon        Normal    Male   \n",
       "\n",
       "             Product line  Unit price  Quantity     Total       Date    cogs  \\\n",
       "0       Health and beauty       74.69         7  548.9715   1/5/2019  522.83   \n",
       "1  Electronic accessories       15.28         5   80.2200   3/8/2019   76.40   \n",
       "2      Home and lifestyle       46.33         7  340.5255   3/3/2019  324.31   \n",
       "3       Health and beauty       58.22         8  489.0480  1/27/2019  465.76   \n",
       "4       Sports and travel       86.31         7  634.3785   2/8/2019  604.17   \n",
       "\n",
       "   gross income  Rating  \n",
       "0       26.1415     9.1  \n",
       "1        3.8200     9.6  \n",
       "2       16.2155     7.4  \n",
       "3       23.2880     8.4  \n",
       "4       30.2085     5.3  "
      ]
     },
     "execution_count": 46,
     "metadata": {},
     "output_type": "execute_result"
    }
   ],
   "source": [
    "df.head()"
   ]
  },
  {
   "cell_type": "code",
   "execution_count": 55,
   "id": "70b71011",
   "metadata": {},
   "outputs": [],
   "source": [
    "label_encoder = preprocessing.LabelEncoder()\n",
    "df['City']=label_encoder.fit_transform(df['City'])"
   ]
  },
  {
   "cell_type": "code",
   "execution_count": 82,
   "id": "cb6f1492",
   "metadata": {},
   "outputs": [],
   "source": [
    "label_encoder = preprocessing.LabelEncoder()\n",
    "df['Branch']=label_encoder.fit_transform(df['Branch'])"
   ]
  },
  {
   "cell_type": "code",
   "execution_count": 83,
   "id": "0fe208fe",
   "metadata": {},
   "outputs": [],
   "source": [
    "label_encoder = preprocessing.LabelEncoder()\n",
    "df['Customer type']=label_encoder.fit_transform(df['Customer type'])"
   ]
  },
  {
   "cell_type": "code",
   "execution_count": 84,
   "id": "c2cfb49a",
   "metadata": {},
   "outputs": [],
   "source": [
    "label_encoder = preprocessing.LabelEncoder()\n",
    "df['Gender']=label_encoder.fit_transform(df['Gender'])"
   ]
  },
  {
   "cell_type": "code",
   "execution_count": 85,
   "id": "1a593f76",
   "metadata": {},
   "outputs": [],
   "source": [
    "label_encoder = preprocessing.LabelEncoder()\n",
    "df['Product line']=label_encoder.fit_transform(df['Product line'])"
   ]
  },
  {
   "cell_type": "code",
   "execution_count": 87,
   "id": "8a72bde5",
   "metadata": {},
   "outputs": [
    {
     "data": {
      "text/html": [
       "<div>\n",
       "<style scoped>\n",
       "    .dataframe tbody tr th:only-of-type {\n",
       "        vertical-align: middle;\n",
       "    }\n",
       "\n",
       "    .dataframe tbody tr th {\n",
       "        vertical-align: top;\n",
       "    }\n",
       "\n",
       "    .dataframe thead th {\n",
       "        text-align: right;\n",
       "    }\n",
       "</style>\n",
       "<table border=\"1\" class=\"dataframe\">\n",
       "  <thead>\n",
       "    <tr style=\"text-align: right;\">\n",
       "      <th></th>\n",
       "      <th>Credit card</th>\n",
       "      <th>Ewallet</th>\n",
       "      <th>Branch</th>\n",
       "      <th>City</th>\n",
       "      <th>Customer type</th>\n",
       "      <th>Gender</th>\n",
       "      <th>Product line</th>\n",
       "      <th>Unit price</th>\n",
       "      <th>Quantity</th>\n",
       "      <th>Total</th>\n",
       "      <th>Date</th>\n",
       "      <th>cogs</th>\n",
       "      <th>gross income</th>\n",
       "      <th>Rating</th>\n",
       "    </tr>\n",
       "  </thead>\n",
       "  <tbody>\n",
       "    <tr>\n",
       "      <th>0</th>\n",
       "      <td>0</td>\n",
       "      <td>1</td>\n",
       "      <td>0</td>\n",
       "      <td>2</td>\n",
       "      <td>0</td>\n",
       "      <td>0</td>\n",
       "      <td>3</td>\n",
       "      <td>74.69</td>\n",
       "      <td>7</td>\n",
       "      <td>548.9715</td>\n",
       "      <td>1/5/2019</td>\n",
       "      <td>522.83</td>\n",
       "      <td>26.1415</td>\n",
       "      <td>9.1</td>\n",
       "    </tr>\n",
       "    <tr>\n",
       "      <th>1</th>\n",
       "      <td>0</td>\n",
       "      <td>0</td>\n",
       "      <td>2</td>\n",
       "      <td>1</td>\n",
       "      <td>1</td>\n",
       "      <td>0</td>\n",
       "      <td>0</td>\n",
       "      <td>15.28</td>\n",
       "      <td>5</td>\n",
       "      <td>80.2200</td>\n",
       "      <td>3/8/2019</td>\n",
       "      <td>76.40</td>\n",
       "      <td>3.8200</td>\n",
       "      <td>9.6</td>\n",
       "    </tr>\n",
       "    <tr>\n",
       "      <th>2</th>\n",
       "      <td>1</td>\n",
       "      <td>0</td>\n",
       "      <td>0</td>\n",
       "      <td>2</td>\n",
       "      <td>1</td>\n",
       "      <td>1</td>\n",
       "      <td>4</td>\n",
       "      <td>46.33</td>\n",
       "      <td>7</td>\n",
       "      <td>340.5255</td>\n",
       "      <td>3/3/2019</td>\n",
       "      <td>324.31</td>\n",
       "      <td>16.2155</td>\n",
       "      <td>7.4</td>\n",
       "    </tr>\n",
       "    <tr>\n",
       "      <th>3</th>\n",
       "      <td>0</td>\n",
       "      <td>1</td>\n",
       "      <td>0</td>\n",
       "      <td>2</td>\n",
       "      <td>0</td>\n",
       "      <td>1</td>\n",
       "      <td>3</td>\n",
       "      <td>58.22</td>\n",
       "      <td>8</td>\n",
       "      <td>489.0480</td>\n",
       "      <td>1/27/2019</td>\n",
       "      <td>465.76</td>\n",
       "      <td>23.2880</td>\n",
       "      <td>8.4</td>\n",
       "    </tr>\n",
       "    <tr>\n",
       "      <th>4</th>\n",
       "      <td>0</td>\n",
       "      <td>1</td>\n",
       "      <td>0</td>\n",
       "      <td>2</td>\n",
       "      <td>1</td>\n",
       "      <td>1</td>\n",
       "      <td>5</td>\n",
       "      <td>86.31</td>\n",
       "      <td>7</td>\n",
       "      <td>634.3785</td>\n",
       "      <td>2/8/2019</td>\n",
       "      <td>604.17</td>\n",
       "      <td>30.2085</td>\n",
       "      <td>5.3</td>\n",
       "    </tr>\n",
       "  </tbody>\n",
       "</table>\n",
       "</div>"
      ],
      "text/plain": [
       "   Credit card  Ewallet  Branch  City  Customer type  Gender  Product line  \\\n",
       "0            0        1       0     2              0       0             3   \n",
       "1            0        0       2     1              1       0             0   \n",
       "2            1        0       0     2              1       1             4   \n",
       "3            0        1       0     2              0       1             3   \n",
       "4            0        1       0     2              1       1             5   \n",
       "\n",
       "   Unit price  Quantity     Total       Date    cogs  gross income  Rating  \n",
       "0       74.69         7  548.9715   1/5/2019  522.83       26.1415     9.1  \n",
       "1       15.28         5   80.2200   3/8/2019   76.40        3.8200     9.6  \n",
       "2       46.33         7  340.5255   3/3/2019  324.31       16.2155     7.4  \n",
       "3       58.22         8  489.0480  1/27/2019  465.76       23.2880     8.4  \n",
       "4       86.31         7  634.3785   2/8/2019  604.17       30.2085     5.3  "
      ]
     },
     "execution_count": 87,
     "metadata": {},
     "output_type": "execute_result"
    }
   ],
   "source": [
    "df.head()"
   ]
  },
  {
   "cell_type": "code",
   "execution_count": 106,
   "id": "3c8a73ef",
   "metadata": {},
   "outputs": [
    {
     "name": "stderr",
     "output_type": "stream",
     "text": [
      "<ipython-input-106-278c51a12752>:3: SettingWithCopyWarning: \n",
      "A value is trying to be set on a copy of a slice from a DataFrame\n",
      "\n",
      "See the caveats in the documentation: https://pandas.pydata.org/pandas-docs/stable/user_guide/indexing.html#returning-a-view-versus-a-copy\n",
      "  df['month'][i]=df['Date'][i][0]\n"
     ]
    }
   ],
   "source": [
    "for i in range(0,df.shape[0]):\n",
    "#     print(i)\n",
    "    df['month'][i]=df['Date'][i][0]"
   ]
  },
  {
   "cell_type": "code",
   "execution_count": 108,
   "id": "d64164d1",
   "metadata": {},
   "outputs": [],
   "source": [
    "df.drop('Date',axis=1,inplace=True)"
   ]
  },
  {
   "cell_type": "code",
   "execution_count": 172,
   "id": "2e9c3b99",
   "metadata": {},
   "outputs": [
    {
     "data": {
      "text/html": [
       "<div>\n",
       "<style scoped>\n",
       "    .dataframe tbody tr th:only-of-type {\n",
       "        vertical-align: middle;\n",
       "    }\n",
       "\n",
       "    .dataframe tbody tr th {\n",
       "        vertical-align: top;\n",
       "    }\n",
       "\n",
       "    .dataframe thead th {\n",
       "        text-align: right;\n",
       "    }\n",
       "</style>\n",
       "<table border=\"1\" class=\"dataframe\">\n",
       "  <thead>\n",
       "    <tr style=\"text-align: right;\">\n",
       "      <th></th>\n",
       "      <th>Credit card</th>\n",
       "      <th>Ewallet</th>\n",
       "      <th>Branch</th>\n",
       "      <th>City</th>\n",
       "      <th>Customer type</th>\n",
       "      <th>Gender</th>\n",
       "      <th>Product line</th>\n",
       "      <th>Unit price</th>\n",
       "      <th>Quantity</th>\n",
       "      <th>Total</th>\n",
       "      <th>cogs</th>\n",
       "      <th>gross income</th>\n",
       "      <th>Rating</th>\n",
       "      <th>month</th>\n",
       "    </tr>\n",
       "  </thead>\n",
       "  <tbody>\n",
       "    <tr>\n",
       "      <th>0</th>\n",
       "      <td>0</td>\n",
       "      <td>1</td>\n",
       "      <td>0</td>\n",
       "      <td>2</td>\n",
       "      <td>0</td>\n",
       "      <td>0</td>\n",
       "      <td>3</td>\n",
       "      <td>74.69</td>\n",
       "      <td>7</td>\n",
       "      <td>548.9715</td>\n",
       "      <td>522.83</td>\n",
       "      <td>26.1415</td>\n",
       "      <td>9.1</td>\n",
       "      <td>1</td>\n",
       "    </tr>\n",
       "    <tr>\n",
       "      <th>1</th>\n",
       "      <td>0</td>\n",
       "      <td>0</td>\n",
       "      <td>2</td>\n",
       "      <td>1</td>\n",
       "      <td>1</td>\n",
       "      <td>0</td>\n",
       "      <td>0</td>\n",
       "      <td>15.28</td>\n",
       "      <td>5</td>\n",
       "      <td>80.2200</td>\n",
       "      <td>76.40</td>\n",
       "      <td>3.8200</td>\n",
       "      <td>9.6</td>\n",
       "      <td>3</td>\n",
       "    </tr>\n",
       "    <tr>\n",
       "      <th>2</th>\n",
       "      <td>1</td>\n",
       "      <td>0</td>\n",
       "      <td>0</td>\n",
       "      <td>2</td>\n",
       "      <td>1</td>\n",
       "      <td>1</td>\n",
       "      <td>4</td>\n",
       "      <td>46.33</td>\n",
       "      <td>7</td>\n",
       "      <td>340.5255</td>\n",
       "      <td>324.31</td>\n",
       "      <td>16.2155</td>\n",
       "      <td>7.4</td>\n",
       "      <td>3</td>\n",
       "    </tr>\n",
       "    <tr>\n",
       "      <th>3</th>\n",
       "      <td>0</td>\n",
       "      <td>1</td>\n",
       "      <td>0</td>\n",
       "      <td>2</td>\n",
       "      <td>0</td>\n",
       "      <td>1</td>\n",
       "      <td>3</td>\n",
       "      <td>58.22</td>\n",
       "      <td>8</td>\n",
       "      <td>489.0480</td>\n",
       "      <td>465.76</td>\n",
       "      <td>23.2880</td>\n",
       "      <td>8.4</td>\n",
       "      <td>1</td>\n",
       "    </tr>\n",
       "    <tr>\n",
       "      <th>4</th>\n",
       "      <td>0</td>\n",
       "      <td>1</td>\n",
       "      <td>0</td>\n",
       "      <td>2</td>\n",
       "      <td>1</td>\n",
       "      <td>1</td>\n",
       "      <td>5</td>\n",
       "      <td>86.31</td>\n",
       "      <td>7</td>\n",
       "      <td>634.3785</td>\n",
       "      <td>604.17</td>\n",
       "      <td>30.2085</td>\n",
       "      <td>5.3</td>\n",
       "      <td>2</td>\n",
       "    </tr>\n",
       "  </tbody>\n",
       "</table>\n",
       "</div>"
      ],
      "text/plain": [
       "   Credit card  Ewallet  Branch  City  Customer type  Gender  Product line  \\\n",
       "0            0        1       0     2              0       0             3   \n",
       "1            0        0       2     1              1       0             0   \n",
       "2            1        0       0     2              1       1             4   \n",
       "3            0        1       0     2              0       1             3   \n",
       "4            0        1       0     2              1       1             5   \n",
       "\n",
       "   Unit price  Quantity     Total    cogs  gross income  Rating month  \n",
       "0       74.69         7  548.9715  522.83       26.1415     9.1     1  \n",
       "1       15.28         5   80.2200   76.40        3.8200     9.6     3  \n",
       "2       46.33         7  340.5255  324.31       16.2155     7.4     3  \n",
       "3       58.22         8  489.0480  465.76       23.2880     8.4     1  \n",
       "4       86.31         7  634.3785  604.17       30.2085     5.3     2  "
      ]
     },
     "execution_count": 172,
     "metadata": {},
     "output_type": "execute_result"
    }
   ],
   "source": [
    "df.head()"
   ]
  },
  {
   "cell_type": "markdown",
   "id": "1fc1799d",
   "metadata": {},
   "source": [
    "## unit price does not have much significance so it is removed"
   ]
  },
  {
   "cell_type": "code",
   "execution_count": 173,
   "id": "91c5bad9",
   "metadata": {},
   "outputs": [],
   "source": [
    "df.drop('Unit price',axis=1,inplace=True)"
   ]
  },
  {
   "cell_type": "markdown",
   "id": "89fa8229",
   "metadata": {},
   "source": [
    "### doing univariate analysis on month"
   ]
  },
  {
   "cell_type": "code",
   "execution_count": 111,
   "id": "7d7aea7a",
   "metadata": {},
   "outputs": [
    {
     "data": {
      "text/plain": [
       "1    352\n",
       "3    345\n",
       "2    303\n",
       "Name: month, dtype: int64"
      ]
     },
     "execution_count": 111,
     "metadata": {},
     "output_type": "execute_result"
    }
   ],
   "source": [
    "df['month'].value_counts()"
   ]
  },
  {
   "cell_type": "code",
   "execution_count": 121,
   "id": "f49b4880",
   "metadata": {},
   "outputs": [
    {
     "data": {
      "image/png": "[encoded data removed]",
      "text/plain": [
       "<Figure size 720x720 with 1 Axes>"
      ]
     },
     "metadata": {
      "needs_background": "light"
     },
     "output_type": "display_data"
    }
   ],
   "source": [
    "fig, ax = plt.subplots(figsize=(10,10))\n",
    "# x and y are lists\n",
    "sns.barplot(x=[1,2,3],y=[352,345,303], color='blue', ax=ax, label=\"Some Label\")\n",
    "\n",
    "ax.legend()\n",
    "plt.show()"
   ]
  },
  {
   "cell_type": "markdown",
   "id": "9c947e26",
   "metadata": {},
   "source": [
    "#### There has been slight decrease in sales from januaray to march"
   ]
  },
  {
   "cell_type": "markdown",
   "id": "6cd6ac72",
   "metadata": {},
   "source": [
    "## bivariate analysis on month and total"
   ]
  },
  {
   "cell_type": "code",
   "execution_count": 164,
   "id": "22e0bc82",
   "metadata": {},
   "outputs": [],
   "source": [
    "s1=df[df['month']=='1']['Total'].sum()\n",
    "s2=df[df['month']=='2']['Total'].sum()\n",
    "s3=df[df['month']=='3']['Total'].sum()\n",
    "# df2['Total'].sum()\n",
    "\n",
    "lis=[s1,s2,s3]\n",
    "\n",
    "\n",
    "month=['jan','feb','mar']\n"
   ]
  },
  {
   "cell_type": "code",
   "execution_count": 165,
   "id": "6b265079",
   "metadata": {},
   "outputs": [
    {
     "data": {
      "text/plain": [
       "<AxesSubplot:>"
      ]
     },
     "execution_count": 165,
     "metadata": {},
     "output_type": "execute_result"
    },
    {
     "data": {
      "image/png": "[encoded data removed]",
      "text/plain": [
       "<Figure size 432x288 with 1 Axes>"
      ]
     },
     "metadata": {
      "needs_background": "light"
     },
     "output_type": "display_data"
    }
   ],
   "source": [
    "\n",
    "sns.lineplot(x=month,y=lis)"
   ]
  },
  {
   "cell_type": "markdown",
   "id": "d92ad123",
   "metadata": {},
   "source": [
    "### there has been a decrease in sale and then increase in march"
   ]
  },
  {
   "cell_type": "markdown",
   "id": "0a5cd8e6",
   "metadata": {},
   "source": [
    "## Bivariate analysis on month and Rating"
   ]
  },
  {
   "cell_type": "code",
   "execution_count": 189,
   "id": "5104a7eb",
   "metadata": {},
   "outputs": [
    {
     "name": "stderr",
     "output_type": "stream",
     "text": [
      "<ipython-input-189-b45c64938372>:2: SettingWithCopyWarning: \n",
      "A value is trying to be set on a copy of a slice from a DataFrame\n",
      "\n",
      "See the caveats in the documentation: https://pandas.pydata.org/pandas-docs/stable/user_guide/indexing.html#returning-a-view-versus-a-copy\n",
      "  df['new_rating'][i]=int(round(df['Rating'][i],0))\n"
     ]
    }
   ],
   "source": [
    "for i in range(0,df.shape[0]):\n",
    "    df['new_rating'][i]=int(round(df['Rating'][i],0))"
   ]
  },
  {
   "cell_type": "code",
   "execution_count": 217,
   "id": "ca864b06",
   "metadata": {},
   "outputs": [],
   "source": [
    "df.drop('Rating',axis=1,inplace=True)"
   ]
  },
  {
   "cell_type": "code",
   "execution_count": 190,
   "id": "13268d3d",
   "metadata": {},
   "outputs": [
    {
     "data": {
      "text/html": [
       "<div>\n",
       "<style scoped>\n",
       "    .dataframe tbody tr th:only-of-type {\n",
       "        vertical-align: middle;\n",
       "    }\n",
       "\n",
       "    .dataframe tbody tr th {\n",
       "        vertical-align: top;\n",
       "    }\n",
       "\n",
       "    .dataframe thead th {\n",
       "        text-align: right;\n",
       "    }\n",
       "</style>\n",
       "<table border=\"1\" class=\"dataframe\">\n",
       "  <thead>\n",
       "    <tr style=\"text-align: right;\">\n",
       "      <th></th>\n",
       "      <th>Credit card</th>\n",
       "      <th>Ewallet</th>\n",
       "      <th>Branch</th>\n",
       "      <th>City</th>\n",
       "      <th>Customer type</th>\n",
       "      <th>Gender</th>\n",
       "      <th>Product line</th>\n",
       "      <th>Quantity</th>\n",
       "      <th>Total</th>\n",
       "      <th>cogs</th>\n",
       "      <th>gross income</th>\n",
       "      <th>Rating</th>\n",
       "      <th>month</th>\n",
       "      <th>new_rating</th>\n",
       "    </tr>\n",
       "  </thead>\n",
       "  <tbody>\n",
       "    <tr>\n",
       "      <th>0</th>\n",
       "      <td>0</td>\n",
       "      <td>1</td>\n",
       "      <td>0</td>\n",
       "      <td>2</td>\n",
       "      <td>0</td>\n",
       "      <td>0</td>\n",
       "      <td>3</td>\n",
       "      <td>7</td>\n",
       "      <td>548.9715</td>\n",
       "      <td>522.83</td>\n",
       "      <td>26.1415</td>\n",
       "      <td>9.1</td>\n",
       "      <td>1</td>\n",
       "      <td>9.0</td>\n",
       "    </tr>\n",
       "    <tr>\n",
       "      <th>1</th>\n",
       "      <td>0</td>\n",
       "      <td>0</td>\n",
       "      <td>2</td>\n",
       "      <td>1</td>\n",
       "      <td>1</td>\n",
       "      <td>0</td>\n",
       "      <td>0</td>\n",
       "      <td>5</td>\n",
       "      <td>80.2200</td>\n",
       "      <td>76.40</td>\n",
       "      <td>3.8200</td>\n",
       "      <td>9.6</td>\n",
       "      <td>3</td>\n",
       "      <td>10.0</td>\n",
       "    </tr>\n",
       "    <tr>\n",
       "      <th>2</th>\n",
       "      <td>1</td>\n",
       "      <td>0</td>\n",
       "      <td>0</td>\n",
       "      <td>2</td>\n",
       "      <td>1</td>\n",
       "      <td>1</td>\n",
       "      <td>4</td>\n",
       "      <td>7</td>\n",
       "      <td>340.5255</td>\n",
       "      <td>324.31</td>\n",
       "      <td>16.2155</td>\n",
       "      <td>7.4</td>\n",
       "      <td>3</td>\n",
       "      <td>7.0</td>\n",
       "    </tr>\n",
       "    <tr>\n",
       "      <th>3</th>\n",
       "      <td>0</td>\n",
       "      <td>1</td>\n",
       "      <td>0</td>\n",
       "      <td>2</td>\n",
       "      <td>0</td>\n",
       "      <td>1</td>\n",
       "      <td>3</td>\n",
       "      <td>8</td>\n",
       "      <td>489.0480</td>\n",
       "      <td>465.76</td>\n",
       "      <td>23.2880</td>\n",
       "      <td>8.4</td>\n",
       "      <td>1</td>\n",
       "      <td>8.0</td>\n",
       "    </tr>\n",
       "    <tr>\n",
       "      <th>4</th>\n",
       "      <td>0</td>\n",
       "      <td>1</td>\n",
       "      <td>0</td>\n",
       "      <td>2</td>\n",
       "      <td>1</td>\n",
       "      <td>1</td>\n",
       "      <td>5</td>\n",
       "      <td>7</td>\n",
       "      <td>634.3785</td>\n",
       "      <td>604.17</td>\n",
       "      <td>30.2085</td>\n",
       "      <td>5.3</td>\n",
       "      <td>2</td>\n",
       "      <td>5.0</td>\n",
       "    </tr>\n",
       "  </tbody>\n",
       "</table>\n",
       "</div>"
      ],
      "text/plain": [
       "   Credit card  Ewallet  Branch  City  Customer type  Gender  Product line  \\\n",
       "0            0        1       0     2              0       0             3   \n",
       "1            0        0       2     1              1       0             0   \n",
       "2            1        0       0     2              1       1             4   \n",
       "3            0        1       0     2              0       1             3   \n",
       "4            0        1       0     2              1       1             5   \n",
       "\n",
       "   Quantity     Total    cogs  gross income  Rating month  new_rating  \n",
       "0         7  548.9715  522.83       26.1415     9.1     1         9.0  \n",
       "1         5   80.2200   76.40        3.8200     9.6     3        10.0  \n",
       "2         7  340.5255  324.31       16.2155     7.4     3         7.0  \n",
       "3         8  489.0480  465.76       23.2880     8.4     1         8.0  \n",
       "4         7  634.3785  604.17       30.2085     5.3     2         5.0  "
      ]
     },
     "execution_count": 190,
     "metadata": {},
     "output_type": "execute_result"
    }
   ],
   "source": [
    "df.head()"
   ]
  },
  {
   "cell_type": "code",
   "execution_count": 203,
   "id": "f2669c0c",
   "metadata": {},
   "outputs": [
    {
     "name": "stdout",
     "output_type": "stream",
     "text": [
      "7.036931818181818 7.075907590759076 6.823188405797102\n"
     ]
    },
    {
     "data": {
      "text/plain": [
       "<AxesSubplot:>"
      ]
     },
     "execution_count": 203,
     "metadata": {},
     "output_type": "execute_result"
    },
    {
     "data": {
      "image/png": "[encoded data removed]",
      "text/plain": [
       "<Figure size 432x288 with 1 Axes>"
      ]
     },
     "metadata": {
      "needs_background": "light"
     },
     "output_type": "display_data"
    }
   ],
   "source": [
    "m1=df[df['month']=='1']['new_rating'].mean()\n",
    "m2=df[df['month']=='2']['new_rating'].mean()\n",
    "m3=df[df['month']=='3']['new_rating'].mean()\n",
    "\n",
    "# lis_month=['jan','feb','mar']\n",
    "print(m1,m2,m3)\n",
    "\n",
    "lis=[m1,m2,m3]\n",
    "\n",
    "sns.lineplot(x=lis,y=month)"
   ]
  },
  {
   "cell_type": "markdown",
   "id": "48d012de",
   "metadata": {},
   "source": [
    "### Not much difference in rating over the 3 months"
   ]
  },
  {
   "cell_type": "markdown",
   "id": "52bcf0d1",
   "metadata": {},
   "source": [
    "### Bivariate analysis on customer type and Rating"
   ]
  },
  {
   "cell_type": "code",
   "execution_count": 230,
   "id": "218174b1",
   "metadata": {},
   "outputs": [],
   "source": [
    "coeff, _ = scipy.stats.spearmanr(df['Customer type'], df['new_rating'])"
   ]
  },
  {
   "cell_type": "code",
   "execution_count": 231,
   "id": "338539dc",
   "metadata": {},
   "outputs": [
    {
     "data": {
      "text/plain": [
       "0.011395733063176724"
      ]
     },
     "execution_count": 231,
     "metadata": {},
     "output_type": "execute_result"
    }
   ],
   "source": [
    "coeff"
   ]
  },
  {
   "cell_type": "markdown",
   "id": "46ef1da2",
   "metadata": {},
   "source": [
    "### There is also no correlation between customer membership type and the rating that they give"
   ]
  },
  {
   "cell_type": "code",
   "execution_count": 232,
   "id": "6f00772e",
   "metadata": {},
   "outputs": [
    {
     "data": {
      "image/png": "[encoded data removed]",
      "text/plain": [
       "<Figure size 432x288 with 2 Axes>"
      ]
     },
     "metadata": {
      "needs_background": "light"
     },
     "output_type": "display_data"
    }
   ],
   "source": [
    "corrmat = df.corr()\n",
    "hm = sns.heatmap(corrmat)"
   ]
  },
  {
   "cell_type": "code",
   "execution_count": 239,
   "id": "b7d0036b",
   "metadata": {},
   "outputs": [],
   "source": [
    "coeff, _ = scipy.stats.spearmanr(df['Quantity'], df['gross income'])"
   ]
  },
  {
   "cell_type": "markdown",
   "id": "75c4c06c",
   "metadata": {},
   "source": [
    "## Branch and city are highly correlated hence one of them is removed"
   ]
  },
  {
   "cell_type": "code",
   "execution_count": 238,
   "id": "6a70ca37",
   "metadata": {},
   "outputs": [],
   "source": [
    "df.drop('Branch',axis=1,inplace=True)"
   ]
  },
  {
   "cell_type": "markdown",
   "id": "0403c49e",
   "metadata": {},
   "source": [
    "### similarly quantity cogs and  total are highly correlated so quantity and cogs are removed"
   ]
  },
  {
   "cell_type": "code",
   "execution_count": 241,
   "id": "31adc4fb",
   "metadata": {},
   "outputs": [],
   "source": [
    "df.drop(['Quantity','cogs'],axis=1,inplace=True)"
   ]
  },
  {
   "cell_type": "code",
   "execution_count": 243,
   "id": "a7017a18",
   "metadata": {},
   "outputs": [
    {
     "data": {
      "text/html": [
       "<div>\n",
       "<style scoped>\n",
       "    .dataframe tbody tr th:only-of-type {\n",
       "        vertical-align: middle;\n",
       "    }\n",
       "\n",
       "    .dataframe tbody tr th {\n",
       "        vertical-align: top;\n",
       "    }\n",
       "\n",
       "    .dataframe thead th {\n",
       "        text-align: right;\n",
       "    }\n",
       "</style>\n",
       "<table border=\"1\" class=\"dataframe\">\n",
       "  <thead>\n",
       "    <tr style=\"text-align: right;\">\n",
       "      <th></th>\n",
       "      <th>Credit card</th>\n",
       "      <th>Ewallet</th>\n",
       "      <th>City</th>\n",
       "      <th>Customer type</th>\n",
       "      <th>Gender</th>\n",
       "      <th>Product line</th>\n",
       "      <th>Total</th>\n",
       "      <th>gross income</th>\n",
       "      <th>month</th>\n",
       "      <th>new_rating</th>\n",
       "    </tr>\n",
       "  </thead>\n",
       "  <tbody>\n",
       "    <tr>\n",
       "      <th>0</th>\n",
       "      <td>0</td>\n",
       "      <td>1</td>\n",
       "      <td>2</td>\n",
       "      <td>0</td>\n",
       "      <td>0</td>\n",
       "      <td>3</td>\n",
       "      <td>548.9715</td>\n",
       "      <td>26.1415</td>\n",
       "      <td>1</td>\n",
       "      <td>9.0</td>\n",
       "    </tr>\n",
       "    <tr>\n",
       "      <th>1</th>\n",
       "      <td>0</td>\n",
       "      <td>0</td>\n",
       "      <td>1</td>\n",
       "      <td>1</td>\n",
       "      <td>0</td>\n",
       "      <td>0</td>\n",
       "      <td>80.2200</td>\n",
       "      <td>3.8200</td>\n",
       "      <td>3</td>\n",
       "      <td>10.0</td>\n",
       "    </tr>\n",
       "    <tr>\n",
       "      <th>2</th>\n",
       "      <td>1</td>\n",
       "      <td>0</td>\n",
       "      <td>2</td>\n",
       "      <td>1</td>\n",
       "      <td>1</td>\n",
       "      <td>4</td>\n",
       "      <td>340.5255</td>\n",
       "      <td>16.2155</td>\n",
       "      <td>3</td>\n",
       "      <td>7.0</td>\n",
       "    </tr>\n",
       "    <tr>\n",
       "      <th>3</th>\n",
       "      <td>0</td>\n",
       "      <td>1</td>\n",
       "      <td>2</td>\n",
       "      <td>0</td>\n",
       "      <td>1</td>\n",
       "      <td>3</td>\n",
       "      <td>489.0480</td>\n",
       "      <td>23.2880</td>\n",
       "      <td>1</td>\n",
       "      <td>8.0</td>\n",
       "    </tr>\n",
       "    <tr>\n",
       "      <th>4</th>\n",
       "      <td>0</td>\n",
       "      <td>1</td>\n",
       "      <td>2</td>\n",
       "      <td>1</td>\n",
       "      <td>1</td>\n",
       "      <td>5</td>\n",
       "      <td>634.3785</td>\n",
       "      <td>30.2085</td>\n",
       "      <td>2</td>\n",
       "      <td>5.0</td>\n",
       "    </tr>\n",
       "  </tbody>\n",
       "</table>\n",
       "</div>"
      ],
      "text/plain": [
       "   Credit card  Ewallet  City  Customer type  Gender  Product line     Total  \\\n",
       "0            0        1     2              0       0             3  548.9715   \n",
       "1            0        0     1              1       0             0   80.2200   \n",
       "2            1        0     2              1       1             4  340.5255   \n",
       "3            0        1     2              0       1             3  489.0480   \n",
       "4            0        1     2              1       1             5  634.3785   \n",
       "\n",
       "   gross income month  new_rating  \n",
       "0       26.1415     1         9.0  \n",
       "1        3.8200     3        10.0  \n",
       "2       16.2155     3         7.0  \n",
       "3       23.2880     1         8.0  \n",
       "4       30.2085     2         5.0  "
      ]
     },
     "execution_count": 243,
     "metadata": {},
     "output_type": "execute_result"
    }
   ],
   "source": [
    "df.head()"
   ]
  },
  {
   "cell_type": "markdown",
   "id": "ef0dd9cc",
   "metadata": {},
   "source": [
    "## product line and total"
   ]
  },
  {
   "cell_type": "code",
   "execution_count": 245,
   "id": "7eebfe01",
   "metadata": {},
   "outputs": [
    {
     "data": {
      "text/plain": [
       "[178, 174, 170, 166, 160, 152]"
      ]
     },
     "execution_count": 245,
     "metadata": {},
     "output_type": "execute_result"
    }
   ],
   "source": [
    "list(df['Product line'].value_counts())"
   ]
  },
  {
   "cell_type": "code",
   "execution_count": 249,
   "id": "dbcc2d3a",
   "metadata": {},
   "outputs": [
    {
     "data": {
      "text/plain": [
       "1    178\n",
       "2    174\n",
       "0    170\n",
       "5    166\n",
       "4    160\n",
       "3    152\n",
       "Name: Product line, dtype: int64"
      ]
     },
     "execution_count": 249,
     "metadata": {},
     "output_type": "execute_result"
    }
   ],
   "source": [
    "df['Product line'].value_counts()"
   ]
  },
  {
   "cell_type": "code",
   "execution_count": 258,
   "id": "335c512f",
   "metadata": {},
   "outputs": [
    {
     "name": "stdout",
     "output_type": "stream",
     "text": [
      "54337.53150000001 54305.895000000004 56144.844000000005 49193.739 53861.913 55122.82650000001\n"
     ]
    }
   ],
   "source": [
    "p1=df[df['Product line']==0]['Total'].sum()\n",
    "p2=df[df['Product line']==1]['Total'].sum()\n",
    "p3=df[df['Product line']==2]['Total'].sum()\n",
    "p4=df[df['Product line']==3]['Total'].sum()\n",
    "p5=df[df['Product line']==4]['Total'].sum()\n",
    "p6=df[df['Product line']==5]['Total'].sum()\n",
    "print(p1,p2,p3,p4,p5,p6)\n",
    "\n",
    "lis2=[p1,p2,p3,p4,p5,p6]\n",
    "lis2p=['0','1','2','3','4','5']"
   ]
  },
  {
   "cell_type": "code",
   "execution_count": 259,
   "id": "142c0a0e",
   "metadata": {},
   "outputs": [
    {
     "data": {
      "image/png": "[encoded data removed]",
      "text/plain": [
       "<Figure size 720x720 with 1 Axes>"
      ]
     },
     "metadata": {
      "needs_background": "light"
     },
     "output_type": "display_data"
    }
   ],
   "source": [
    "fig, ax = plt.subplots(figsize=(10,10))\n",
    "# x and y are lists\n",
    "sns.barplot(x=lis2,y=lis2p, color='blue', ax=ax, label=\"Some Label\")\n",
    "\n",
    "ax.legend()\n",
    "plt.show()"
   ]
  },
  {
   "cell_type": "code",
   "execution_count": null,
   "id": "6a296757",
   "metadata": {},
   "outputs": [],
   "source": []
  },
  {
   "cell_type": "markdown",
   "id": "2ad18c7b",
   "metadata": {},
   "source": [
    "# CONCLUSION"
   ]
  },
  {
   "cell_type": "markdown",
   "id": "f363b526",
   "metadata": {},
   "source": [
    "## There is no relation between the customer type and rating that they give.The qunatityof goods sold has slightly decreased from jan to feb and the total sales has decreased significantly from jan to feb but has increased again in march"
   ]
  },
  {
   "cell_type": "markdown",
   "id": "547a8587",
   "metadata": {},
   "source": [
    "## Also most of the customers are for small purchases the total cost each customer has barely exceded 991"
   ]
  }
 ],
 "metadata": {
  "kernelspec": {
   "display_name": "Python 3",
   "language": "python",
   "name": "python3"
  },
  "language_info": {
   "codemirror_mode": {
    "name": "ipython",
    "version": 3
   },
   "file_extension": ".py",
   "mimetype": "text/x-python",
   "name": "python",
   "nbconvert_exporter": "python",
   "pygments_lexer": "ipython3",
   "version": "3.8.8"
  }
 },
 "nbformat": 4,
 "nbformat_minor": 5
}
