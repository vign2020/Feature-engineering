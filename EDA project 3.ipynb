{
 "cells": [
  {
   "cell_type": "code",
   "execution_count": 1,
   "id": "46406671",
   "metadata": {},
   "outputs": [],
   "source": [
    "import pandas as pd\n",
    "import seaborn as sns\n",
    "import numpy as np \n",
    "from scipy.stats import skew\n",
    "import matplotlib.pyplot as plt\n",
    "%matplotlib inline"
   ]
  },
  {
   "cell_type": "code",
   "execution_count": 2,
   "id": "c5f8bd9a",
   "metadata": {},
   "outputs": [
    {
     "data": {
      "text/html": [
       "<div>\n",
       "<style scoped>\n",
       "    .dataframe tbody tr th:only-of-type {\n",
       "        vertical-align: middle;\n",
       "    }\n",
       "\n",
       "    .dataframe tbody tr th {\n",
       "        vertical-align: top;\n",
       "    }\n",
       "\n",
       "    .dataframe thead th {\n",
       "        text-align: right;\n",
       "    }\n",
       "</style>\n",
       "<table border=\"1\" class=\"dataframe\">\n",
       "  <thead>\n",
       "    <tr style=\"text-align: right;\">\n",
       "      <th></th>\n",
       "      <th>Title</th>\n",
       "      <th>Title_URL</th>\n",
       "      <th>Content</th>\n",
       "      <th>Content1</th>\n",
       "      <th>Content2</th>\n",
       "      <th>Content3</th>\n",
       "    </tr>\n",
       "  </thead>\n",
       "  <tbody>\n",
       "    <tr>\n",
       "      <th>0</th>\n",
       "      <td>Farscape</td>\n",
       "      <td>https://tubitv.com/series/300009559/farscape?s...</td>\n",
       "      <td>1999</td>\n",
       "      <td>NaN</td>\n",
       "      <td>TV-14</td>\n",
       "      <td>Sci-Fi · Action · Adventure · Drama</td>\n",
       "    </tr>\n",
       "    <tr>\n",
       "      <th>1</th>\n",
       "      <td>The Betrayal 2: Revenge</td>\n",
       "      <td>https://tubitv.com/movies/689161/the-betrayal-...</td>\n",
       "      <td>2022</td>\n",
       "      <td>2 hr 14 min</td>\n",
       "      <td>TV-MA</td>\n",
       "      <td>Action · Crime · Drama</td>\n",
       "    </tr>\n",
       "    <tr>\n",
       "      <th>2</th>\n",
       "      <td>Meet the Snows</td>\n",
       "      <td>https://tubitv.com/movies/698767/meet-the-snow...</td>\n",
       "      <td>2022</td>\n",
       "      <td>1 hr 46 min</td>\n",
       "      <td>TV-MA</td>\n",
       "      <td>Action · Drama</td>\n",
       "    </tr>\n",
       "    <tr>\n",
       "      <th>3</th>\n",
       "      <td>Til My Casket Drops</td>\n",
       "      <td>https://tubitv.com/movies/699113/til-my-casket...</td>\n",
       "      <td>2022</td>\n",
       "      <td>1 hr 40 min</td>\n",
       "      <td>TV-MA</td>\n",
       "      <td>Crime · Action · Drama</td>\n",
       "    </tr>\n",
       "    <tr>\n",
       "      <th>4</th>\n",
       "      <td>McGraw Avenue</td>\n",
       "      <td>https://tubitv.com/series/4893/mcgraw-avenue?s...</td>\n",
       "      <td>2020</td>\n",
       "      <td>NaN</td>\n",
       "      <td>TV-14</td>\n",
       "      <td>Drama · Action</td>\n",
       "    </tr>\n",
       "    <tr>\n",
       "      <th>...</th>\n",
       "      <td>...</td>\n",
       "      <td>...</td>\n",
       "      <td>...</td>\n",
       "      <td>...</td>\n",
       "      <td>...</td>\n",
       "      <td>...</td>\n",
       "    </tr>\n",
       "    <tr>\n",
       "      <th>297</th>\n",
       "      <td>America's Test Kitchen</td>\n",
       "      <td>https://tubitv.com/series/300005464/america-s-...</td>\n",
       "      <td>2001</td>\n",
       "      <td>NaN</td>\n",
       "      <td>TV-G</td>\n",
       "      <td>Lifestyle · Reality</td>\n",
       "    </tr>\n",
       "    <tr>\n",
       "      <th>298</th>\n",
       "      <td>NatureVision TV</td>\n",
       "      <td>https://tubitv.com/series/1665/naturevision-tv...</td>\n",
       "      <td>2018</td>\n",
       "      <td>NaN</td>\n",
       "      <td>TV-G</td>\n",
       "      <td>Music · Reality · Lifestyle · Documentary</td>\n",
       "    </tr>\n",
       "    <tr>\n",
       "      <th>299</th>\n",
       "      <td>The Johnny Carson Show</td>\n",
       "      <td>https://tubitv.com/series/300004966/the-johnny...</td>\n",
       "      <td>1953</td>\n",
       "      <td>NaN</td>\n",
       "      <td>TV-PG</td>\n",
       "      <td>Comedy · Lifestyle</td>\n",
       "    </tr>\n",
       "    <tr>\n",
       "      <th>300</th>\n",
       "      <td>Jo Frost: Nanny on Tour</td>\n",
       "      <td>https://tubitv.com/series/4057/jo-frost-nanny-...</td>\n",
       "      <td>2016</td>\n",
       "      <td>NaN</td>\n",
       "      <td>TV-PG</td>\n",
       "      <td>Reality · Documentary · Lifestyle</td>\n",
       "    </tr>\n",
       "    <tr>\n",
       "      <th>301</th>\n",
       "      <td>Roblox Adventures With Flamingo</td>\n",
       "      <td>https://tubitv.com/series/300008359/roblox-adv...</td>\n",
       "      <td>2019</td>\n",
       "      <td>NaN</td>\n",
       "      <td>TV-PG</td>\n",
       "      <td>Lifestyle · Kids &amp; Family · Comedy</td>\n",
       "    </tr>\n",
       "  </tbody>\n",
       "</table>\n",
       "<p>302 rows × 6 columns</p>\n",
       "</div>"
      ],
      "text/plain": [
       "                               Title  \\\n",
       "0                           Farscape   \n",
       "1            The Betrayal 2: Revenge   \n",
       "2                     Meet the Snows   \n",
       "3                Til My Casket Drops   \n",
       "4                      McGraw Avenue   \n",
       "..                               ...   \n",
       "297           America's Test Kitchen   \n",
       "298                  NatureVision TV   \n",
       "299           The Johnny Carson Show   \n",
       "300          Jo Frost: Nanny on Tour   \n",
       "301  Roblox Adventures With Flamingo   \n",
       "\n",
       "                                             Title_URL  Content     Content1  \\\n",
       "0    https://tubitv.com/series/300009559/farscape?s...     1999          NaN   \n",
       "1    https://tubitv.com/movies/689161/the-betrayal-...     2022  2 hr 14 min   \n",
       "2    https://tubitv.com/movies/698767/meet-the-snow...     2022  1 hr 46 min   \n",
       "3    https://tubitv.com/movies/699113/til-my-casket...     2022  1 hr 40 min   \n",
       "4    https://tubitv.com/series/4893/mcgraw-avenue?s...     2020          NaN   \n",
       "..                                                 ...      ...          ...   \n",
       "297  https://tubitv.com/series/300005464/america-s-...     2001          NaN   \n",
       "298  https://tubitv.com/series/1665/naturevision-tv...     2018          NaN   \n",
       "299  https://tubitv.com/series/300004966/the-johnny...     1953          NaN   \n",
       "300  https://tubitv.com/series/4057/jo-frost-nanny-...     2016          NaN   \n",
       "301  https://tubitv.com/series/300008359/roblox-adv...     2019          NaN   \n",
       "\n",
       "    Content2                                   Content3  \n",
       "0      TV-14        Sci-Fi · Action · Adventure · Drama  \n",
       "1      TV-MA                     Action · Crime · Drama  \n",
       "2      TV-MA                             Action · Drama  \n",
       "3      TV-MA                     Crime · Action · Drama  \n",
       "4      TV-14                             Drama · Action  \n",
       "..       ...                                        ...  \n",
       "297     TV-G                        Lifestyle · Reality  \n",
       "298     TV-G  Music · Reality · Lifestyle · Documentary  \n",
       "299    TV-PG                         Comedy · Lifestyle  \n",
       "300    TV-PG          Reality · Documentary · Lifestyle  \n",
       "301    TV-PG         Lifestyle · Kids & Family · Comedy  \n",
       "\n",
       "[302 rows x 6 columns]"
      ]
     },
     "execution_count": 2,
     "metadata": {},
     "output_type": "execute_result"
    }
   ],
   "source": [
    "df=pd.read_csv('tubi.csv')\n",
    "df"
   ]
  },
  {
   "cell_type": "code",
   "execution_count": 3,
   "id": "49562fad",
   "metadata": {},
   "outputs": [
    {
     "name": "stdout",
     "output_type": "stream",
     "text": [
      "Title         0\n",
      "Title_URL     0\n",
      "Content       0\n",
      "Content1     74\n",
      "Content2      0\n",
      "Content3      0\n",
      "dtype: int64\n"
     ]
    },
    {
     "data": {
      "image/png": "[encoded data removed]",
      "text/plain": [
       "<Figure size 432x288 with 1 Axes>"
      ]
     },
     "metadata": {
      "needs_background": "light"
     },
     "output_type": "display_data"
    }
   ],
   "source": [
    "df.isna().sum().plot.bar(x='x',y='y')\n",
    "print(df.isna().sum())"
   ]
  },
  {
   "cell_type": "code",
   "execution_count": 4,
   "id": "2eeee51c",
   "metadata": {},
   "outputs": [
    {
     "name": "stderr",
     "output_type": "stream",
     "text": [
      "<ipython-input-4-0af0f0cf91bc>:13: SettingWithCopyWarning: \n",
      "A value is trying to be set on a copy of a slice from a DataFrame\n",
      "\n",
      "See the caveats in the documentation: https://pandas.pydata.org/pandas-docs/stable/user_guide/indexing.html#returning-a-view-versus-a-copy\n",
      "  df['new_Content1'][i]=ans\n"
     ]
    }
   ],
   "source": [
    "df['new_Content1']=0\n",
    "for i in range(0,df.shape[0]):\n",
    "    try:\n",
    "        np.isnan(df['Content1'][i])\n",
    "        \n",
    "    except TypeError:\n",
    "        if(df['Content1'][i][2]=='h'):\n",
    "            ans=int(df['Content1'][i][0])*60\n",
    "            temp=int(df['Content1'][i][5]+df['Content1'][i][6])\n",
    "            ans+=temp\n",
    "        elif(df['Content1'][i][3]=='m'):\n",
    "            ans+=(int(df['Content1'][i][0]+df['Content1'][i][1]))\n",
    "        df['new_Content1'][i]=ans"
   ]
  },
  {
   "cell_type": "code",
   "execution_count": 5,
   "id": "129c98d0",
   "metadata": {},
   "outputs": [
    {
     "name": "stderr",
     "output_type": "stream",
     "text": [
      "C:\\Users\\Acer\\anaconda3\\lib\\site-packages\\seaborn\\distributions.py:2557: FutureWarning: `distplot` is a deprecated function and will be removed in a future version. Please adapt your code to use either `displot` (a figure-level function with similar flexibility) or `histplot` (an axes-level function for histograms).\n",
      "  warnings.warn(msg, FutureWarning)\n"
     ]
    },
    {
     "data": {
      "text/plain": [
       "<AxesSubplot:ylabel='Density'>"
      ]
     },
     "execution_count": 5,
     "metadata": {},
     "output_type": "execute_result"
    },
    {
     "data": {
      "image/png": "[encoded data removed]",
      "text/plain": [
       "<Figure size 432x288 with 1 Axes>"
      ]
     },
     "metadata": {
      "needs_background": "light"
     },
     "output_type": "display_data"
    }
   ],
   "source": [
    "lis=[]\n",
    "for i in range(0,df.shape[0]):\n",
    "    if(df['new_Content1'][i]!=0):\n",
    "        lis.append(df['new_Content1'][i])\n",
    "sns.distplot(lis)"
   ]
  },
  {
   "cell_type": "code",
   "execution_count": 6,
   "id": "4a567222",
   "metadata": {},
   "outputs": [
    {
     "name": "stderr",
     "output_type": "stream",
     "text": [
      "<ipython-input-6-50e6d8ec2667>:3: SettingWithCopyWarning: \n",
      "A value is trying to be set on a copy of a slice from a DataFrame\n",
      "\n",
      "See the caveats in the documentation: https://pandas.pydata.org/pandas-docs/stable/user_guide/indexing.html#returning-a-view-versus-a-copy\n",
      "  df['new_Content1'][i]=np.median(lis)\n"
     ]
    }
   ],
   "source": [
    "for i in range(0,df.shape[0]):\n",
    "    if(df['new_Content1'][i]==0):\n",
    "        df['new_Content1'][i]=np.median(lis)"
   ]
  },
  {
   "cell_type": "code",
   "execution_count": 7,
   "id": "7a69b4ed",
   "metadata": {},
   "outputs": [],
   "source": [
    "df.drop('Content1',axis=1,inplace=True)"
   ]
  },
  {
   "cell_type": "markdown",
   "id": "e9b479f9",
   "metadata": {},
   "source": [
    "### From the above pdf function we can say that the content1 values is slighlty skewed with a value of 2.54 hence it would be right to use median value to replace the null values"
   ]
  },
  {
   "cell_type": "code",
   "execution_count": 8,
   "id": "43ab019d",
   "metadata": {},
   "outputs": [],
   "source": [
    "df.drop('Title_URL',axis=1,inplace=True)"
   ]
  },
  {
   "cell_type": "markdown",
   "id": "697f2195",
   "metadata": {},
   "source": [
    "## Dropped Title_URL as it is not of any use"
   ]
  },
  {
   "cell_type": "code",
   "execution_count": 9,
   "id": "a0f0c2cb",
   "metadata": {},
   "outputs": [
    {
     "name": "stderr",
     "output_type": "stream",
     "text": [
      "<ipython-input-9-230865503026>:2: SettingWithCopyWarning: \n",
      "A value is trying to be set on a copy of a slice from a DataFrame\n",
      "\n",
      "See the caveats in the documentation: https://pandas.pydata.org/pandas-docs/stable/user_guide/indexing.html#returning-a-view-versus-a-copy\n",
      "  df['Content'][i]=int(df['Content'][i])\n"
     ]
    }
   ],
   "source": [
    "for i in range(0,df.shape[0]):\n",
    "    df['Content'][i]=int(df['Content'][i])"
   ]
  },
  {
   "cell_type": "markdown",
   "id": "946aea4b",
   "metadata": {},
   "source": [
    "# performing univariate analysis on Content Content2 Content3 and new_Content1"
   ]
  },
  {
   "cell_type": "markdown",
   "id": "4f082ed8",
   "metadata": {},
   "source": [
    "### on new_Content1"
   ]
  },
  {
   "cell_type": "code",
   "execution_count": null,
   "id": "6c5e9edc",
   "metadata": {},
   "outputs": [],
   "source": []
  },
  {
   "cell_type": "code",
   "execution_count": null,
   "id": "87dad6ff",
   "metadata": {},
   "outputs": [],
   "source": []
  },
  {
   "cell_type": "code",
   "execution_count": null,
   "id": "b65ddc93",
   "metadata": {},
   "outputs": [],
   "source": []
  },
  {
   "cell_type": "code",
   "execution_count": null,
   "id": "e075dc70",
   "metadata": {},
   "outputs": [],
   "source": []
  },
  {
   "cell_type": "code",
   "execution_count": null,
   "id": "5dec789c",
   "metadata": {},
   "outputs": [],
   "source": []
  },
  {
   "cell_type": "markdown",
   "id": "0e58ff7b",
   "metadata": {},
   "source": [
    "## on Content"
   ]
  },
  {
   "cell_type": "markdown",
   "id": "25fa0311",
   "metadata": {},
   "source": [
    "# outcome:\n",
    "    78.46% of movies in tubi (according to this dataset) are made between 1931 and 2009 and there are 33 movies that was made in 2022"
   ]
  },
  {
   "cell_type": "code",
   "execution_count": 10,
   "id": "15fbc9ea",
   "metadata": {},
   "outputs": [
    {
     "data": {
      "text/plain": [
       "<seaborn.axisgrid.FacetGrid at 0x292c0bd3070>"
      ]
     },
     "execution_count": 10,
     "metadata": {},
     "output_type": "execute_result"
    },
    {
     "data": {
      "image/png": "[encoded data removed]",
      "text/plain": [
       "<Figure size 360x360 with 1 Axes>"
      ]
     },
     "metadata": {
      "needs_background": "light"
     },
     "output_type": "display_data"
    }
   ],
   "source": [
    "lis=list(df['Content'].value_counts())\n",
    "sns.displot(lis)"
   ]
  },
  {
   "cell_type": "code",
   "execution_count": 28,
   "id": "d1bec2d9",
   "metadata": {},
   "outputs": [
    {
     "name": "stdout",
     "output_type": "stream",
     "text": [
      "[1931, 1937, 1943, 1945, 1951, 1952, 1953, 1955, 1962, 1966, 1967, 1969, 1978, 1981, 1982, 1994, 1995, 1997, 1998, 1999]\n",
      "percentage of year of release with a frequence of less than 5 make up 78.46153846153847 and such movies are made between 1931 and 2009\n"
     ]
    }
   ],
   "source": [
    "unique=len(df['Content'].unique())\n",
    "lis=list(df.Content.value_counts().loc[lambda x:x<2].index)\n",
    "print(sorted(lis))\n",
    "lis2=sorted(list(df.Content.value_counts().loc[lambda x:x<5].index))\n",
    "\n",
    "print(f'percentage of year of release with a frequence of less than 5 make up { len(lis2)*100/unique} and such movies are made between {lis2[0]} and {lis2[len(lis2)-1]}')"
   ]
  },
  {
   "cell_type": "markdown",
   "id": "28202d4d",
   "metadata": {},
   "source": [
    "## On content2"
   ]
  },
  {
   "cell_type": "markdown",
   "id": "3556a65b",
   "metadata": {},
   "source": [
    "# outcomes:\n",
    "    It was found that most of the movies are rated TV-MA which means that it contained elements which are only suitable for the mature audiance.\n",
    "    Further the categorical features are converted using frequency encoding technique as there is no redundancy in the frequency of each value"
   ]
  },
  {
   "cell_type": "code",
   "execution_count": 12,
   "id": "b3e7242e",
   "metadata": {},
   "outputs": [
    {
     "name": "stdout",
     "output_type": "stream",
     "text": [
      "TV-Y7       0.003311\n",
      "TV-Y7_FV    0.006623\n",
      "G           0.006623\n",
      "TV-Y        0.026490\n",
      "PG-13       0.036424\n",
      "PG          0.052980\n",
      "R           0.082781\n",
      "TV-G        0.092715\n",
      "TV-PG       0.185430\n",
      "TV-14       0.221854\n",
      "TV-MA       0.284768\n",
      "Name: Content2, dtype: float64\n"
     ]
    },
    {
     "data": {
      "image/png": "[encoded data removed]",
      "text/plain": [
       "<Figure size 432x288 with 1 Axes>"
      ]
     },
     "metadata": {
      "needs_background": "light"
     },
     "output_type": "display_data"
    }
   ],
   "source": [
    "lis_con=['TV-MA','TV-14','TV-PG','TV-G','R','PG','PG-13','TV-Y','G','TV-Y7_FV','TV-Y7']\n",
    "\n",
    "sns.barplot(x=lis_con,y=list(df['Content2'].value_counts()))\n",
    "print(df['Content2'].value_counts(normalize=True,ascending=True))\n",
    "# print(f'percentage of occurance of each value = {}')"
   ]
  },
  {
   "cell_type": "markdown",
   "id": "e149fa7d",
   "metadata": {},
   "source": [
    "g tv-y7-fv tv-y7 and tv-y are categoized as kids as they almost imply the same thing and they are also smaller in number"
   ]
  },
  {
   "cell_type": "code",
   "execution_count": 13,
   "id": "4bbd9dac",
   "metadata": {},
   "outputs": [],
   "source": [
    "for i in list(df[df['Content2']=='G'].index)+list(df[df['Content2']=='TV-Y7'].index)+list(df[df['Content2']=='TV-Y7_FV'].index)+list(df[df['Content2']=='TV-Y'].index):\n",
    "    df.at[i,'Content2']='Others'"
   ]
  },
  {
   "cell_type": "code",
   "execution_count": 14,
   "id": "a8d8b06d",
   "metadata": {},
   "outputs": [
    {
     "data": {
      "text/html": [
       "<div>\n",
       "<style scoped>\n",
       "    .dataframe tbody tr th:only-of-type {\n",
       "        vertical-align: middle;\n",
       "    }\n",
       "\n",
       "    .dataframe tbody tr th {\n",
       "        vertical-align: top;\n",
       "    }\n",
       "\n",
       "    .dataframe thead th {\n",
       "        text-align: right;\n",
       "    }\n",
       "</style>\n",
       "<table border=\"1\" class=\"dataframe\">\n",
       "  <thead>\n",
       "    <tr style=\"text-align: right;\">\n",
       "      <th></th>\n",
       "      <th>Title</th>\n",
       "      <th>Content</th>\n",
       "      <th>Content2</th>\n",
       "      <th>Content3</th>\n",
       "      <th>new_Content1</th>\n",
       "    </tr>\n",
       "  </thead>\n",
       "  <tbody>\n",
       "    <tr>\n",
       "      <th>0</th>\n",
       "      <td>Farscape</td>\n",
       "      <td>1999</td>\n",
       "      <td>TV-14</td>\n",
       "      <td>Sci-Fi · Action · Adventure · Drama</td>\n",
       "      <td>96</td>\n",
       "    </tr>\n",
       "    <tr>\n",
       "      <th>1</th>\n",
       "      <td>The Betrayal 2: Revenge</td>\n",
       "      <td>2022</td>\n",
       "      <td>TV-MA</td>\n",
       "      <td>Action · Crime · Drama</td>\n",
       "      <td>134</td>\n",
       "    </tr>\n",
       "    <tr>\n",
       "      <th>2</th>\n",
       "      <td>Meet the Snows</td>\n",
       "      <td>2022</td>\n",
       "      <td>TV-MA</td>\n",
       "      <td>Action · Drama</td>\n",
       "      <td>106</td>\n",
       "    </tr>\n",
       "    <tr>\n",
       "      <th>3</th>\n",
       "      <td>Til My Casket Drops</td>\n",
       "      <td>2022</td>\n",
       "      <td>TV-MA</td>\n",
       "      <td>Crime · Action · Drama</td>\n",
       "      <td>100</td>\n",
       "    </tr>\n",
       "    <tr>\n",
       "      <th>4</th>\n",
       "      <td>McGraw Avenue</td>\n",
       "      <td>2020</td>\n",
       "      <td>TV-14</td>\n",
       "      <td>Drama · Action</td>\n",
       "      <td>96</td>\n",
       "    </tr>\n",
       "    <tr>\n",
       "      <th>...</th>\n",
       "      <td>...</td>\n",
       "      <td>...</td>\n",
       "      <td>...</td>\n",
       "      <td>...</td>\n",
       "      <td>...</td>\n",
       "    </tr>\n",
       "    <tr>\n",
       "      <th>297</th>\n",
       "      <td>America's Test Kitchen</td>\n",
       "      <td>2001</td>\n",
       "      <td>TV-G</td>\n",
       "      <td>Lifestyle · Reality</td>\n",
       "      <td>96</td>\n",
       "    </tr>\n",
       "    <tr>\n",
       "      <th>298</th>\n",
       "      <td>NatureVision TV</td>\n",
       "      <td>2018</td>\n",
       "      <td>TV-G</td>\n",
       "      <td>Music · Reality · Lifestyle · Documentary</td>\n",
       "      <td>96</td>\n",
       "    </tr>\n",
       "    <tr>\n",
       "      <th>299</th>\n",
       "      <td>The Johnny Carson Show</td>\n",
       "      <td>1953</td>\n",
       "      <td>TV-PG</td>\n",
       "      <td>Comedy · Lifestyle</td>\n",
       "      <td>96</td>\n",
       "    </tr>\n",
       "    <tr>\n",
       "      <th>300</th>\n",
       "      <td>Jo Frost: Nanny on Tour</td>\n",
       "      <td>2016</td>\n",
       "      <td>TV-PG</td>\n",
       "      <td>Reality · Documentary · Lifestyle</td>\n",
       "      <td>96</td>\n",
       "    </tr>\n",
       "    <tr>\n",
       "      <th>301</th>\n",
       "      <td>Roblox Adventures With Flamingo</td>\n",
       "      <td>2019</td>\n",
       "      <td>TV-PG</td>\n",
       "      <td>Lifestyle · Kids &amp; Family · Comedy</td>\n",
       "      <td>96</td>\n",
       "    </tr>\n",
       "  </tbody>\n",
       "</table>\n",
       "<p>302 rows × 5 columns</p>\n",
       "</div>"
      ],
      "text/plain": [
       "                               Title  Content Content2  \\\n",
       "0                           Farscape     1999    TV-14   \n",
       "1            The Betrayal 2: Revenge     2022    TV-MA   \n",
       "2                     Meet the Snows     2022    TV-MA   \n",
       "3                Til My Casket Drops     2022    TV-MA   \n",
       "4                      McGraw Avenue     2020    TV-14   \n",
       "..                               ...      ...      ...   \n",
       "297           America's Test Kitchen     2001     TV-G   \n",
       "298                  NatureVision TV     2018     TV-G   \n",
       "299           The Johnny Carson Show     1953    TV-PG   \n",
       "300          Jo Frost: Nanny on Tour     2016    TV-PG   \n",
       "301  Roblox Adventures With Flamingo     2019    TV-PG   \n",
       "\n",
       "                                      Content3  new_Content1  \n",
       "0          Sci-Fi · Action · Adventure · Drama            96  \n",
       "1                       Action · Crime · Drama           134  \n",
       "2                               Action · Drama           106  \n",
       "3                       Crime · Action · Drama           100  \n",
       "4                               Drama · Action            96  \n",
       "..                                         ...           ...  \n",
       "297                        Lifestyle · Reality            96  \n",
       "298  Music · Reality · Lifestyle · Documentary            96  \n",
       "299                         Comedy · Lifestyle            96  \n",
       "300          Reality · Documentary · Lifestyle            96  \n",
       "301         Lifestyle · Kids & Family · Comedy            96  \n",
       "\n",
       "[302 rows x 5 columns]"
      ]
     },
     "execution_count": 14,
     "metadata": {},
     "output_type": "execute_result"
    }
   ],
   "source": [
    "\n",
    "df"
   ]
  },
  {
   "cell_type": "code",
   "execution_count": 15,
   "id": "e9330501",
   "metadata": {},
   "outputs": [],
   "source": [
    "df_temp=df['Content2'].value_counts().to_frame()\n",
    "lis=list(df_temp.index)\n",
    "lis2=list(df_temp['Content2'])"
   ]
  },
  {
   "cell_type": "code",
   "execution_count": 16,
   "id": "bf4895bf",
   "metadata": {},
   "outputs": [],
   "source": [
    "for i in lis:\n",
    "    for j in list(df[df['Content2']==i].index):\n",
    "        df.at[j,'Content2']=lis2[lis.index(i)]"
   ]
  },
  {
   "cell_type": "markdown",
   "id": "942c1ba9",
   "metadata": {},
   "source": [
    "## On content3"
   ]
  },
  {
   "cell_type": "markdown",
   "id": "37791298",
   "metadata": {},
   "source": [
    "Outcomes:\n",
    "    since many genres are given in overlapping fashion(multiple genres in the same entry) in the dataset,they are converted to a dictonary to get all the unique values of genres\n",
    "    \n",
    "    It was therby found that Drama and comedy was the 2 of the most occuring genres"
   ]
  },
  {
   "cell_type": "code",
   "execution_count": 17,
   "id": "69e83dc9",
   "metadata": {},
   "outputs": [],
   "source": [
    "def get_all_genre():\n",
    "    dicto={}\n",
    "    dot=df['Content3'][0][7]\n",
    "    for ind in range(0,df.shape[0]):\n",
    "        stri=df['Content3'][ind].replace('\\xa0',' ')\n",
    "        stri=stri.replace(dot,' ')\n",
    "        for i in stri.split():\n",
    "            try:\n",
    "                dicto[i]+=1\n",
    "            except KeyError:\n",
    "                dicto[i]=1\n",
    "    return dicto"
   ]
  },
  {
   "cell_type": "code",
   "execution_count": 18,
   "id": "290d13a0",
   "metadata": {},
   "outputs": [],
   "source": [
    "dicto=get_all_genre()\n",
    "del dicto['Kids']\n",
    "del dicto['&']"
   ]
  },
  {
   "cell_type": "code",
   "execution_count": 19,
   "id": "abe5bea2",
   "metadata": {},
   "outputs": [],
   "source": [
    "da=pd.DataFrame.from_dict(dicto,orient='index').T"
   ]
  },
  {
   "cell_type": "code",
   "execution_count": 22,
   "id": "934b103e",
   "metadata": {},
   "outputs": [
    {
     "data": {
      "image/png": "[encoded data removed]",
      "text/plain": [
       "<Figure size 1440x1440 with 1 Axes>"
      ]
     },
     "metadata": {},
     "output_type": "display_data"
    }
   ],
   "source": [
    "sns.barplot(data=da)\n",
    "sns.set(rc = {'figure.figsize':(20,20)})"
   ]
  },
  {
   "cell_type": "markdown",
   "id": "5a08cf4b",
   "metadata": {},
   "source": [
    "# Conclusions:\n",
    "    From this dataset we can make the following statements regarding tubi:\n",
    "        The movies are mostly of short with an average duration of 101 minutes\n",
    "        Tubi is a good option for old movie lovers as it consists of mainly old (from 1930 to 2009) movies as they make up 78% of the total dataset.\n",
    "        Tubi might not be the good option for immature audiance as 28% of the movies are rated TV-MA and 22 percent arerated TV-MA \n",
    "        Drama and Comedy is the genre of most of the movies while musicals and Adult are the least\n",
    "        "
   ]
  },
  {
   "cell_type": "code",
   "execution_count": null,
   "id": "3dedf0d9",
   "metadata": {},
   "outputs": [],
   "source": []
  },
  {
   "cell_type": "code",
   "execution_count": null,
   "id": "be3e0e23",
   "metadata": {},
   "outputs": [],
   "source": []
  }
 ],
 "metadata": {
  "kernelspec": {
   "display_name": "Python 3",
   "language": "python",
   "name": "python3"
  },
  "language_info": {
   "codemirror_mode": {
    "name": "ipython",
    "version": 3
   },
   "file_extension": ".py",
   "mimetype": "text/x-python",
   "name": "python",
   "nbconvert_exporter": "python",
   "pygments_lexer": "ipython3",
   "version": "3.8.8"
  }
 },
 "nbformat": 4,
 "nbformat_minor": 5
}
